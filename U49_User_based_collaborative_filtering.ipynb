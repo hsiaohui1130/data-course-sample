{
  "cells": [
    {
      "cell_type": "code",
      "execution_count": 1,
      "metadata": {
        "id": "K0zhTk-NpBH5"
      },
      "outputs": [],
      "source": [
        "import pandas as pd\n",
        "import gzip, json\n",
        "\n",
        "def parse(path):\n",
        "    g = gzip.open(path, 'rb')\n",
        "    for l in g:\n",
        "        yield json.loads(l)\n",
        "\n",
        "def getDF(path):\n",
        "    i = 0\n",
        "    df = {}\n",
        "    for d in parse(path):\n",
        "        df[i] = d\n",
        "        i += 1\n",
        "    return pd.DataFrame.from_dict(df, orient='index')"
      ]
    },
    {
      "cell_type": "code",
      "source": [
        "!wget http://deepyeti.ucsd.edu/jianmo/amazon/categoryFilesSmall/All_Beauty.csv\n",
        "!wget http://deepyeti.ucsd.edu/jianmo/amazon/metaFiles2/meta_All_Beauty.json.gz"
      ],
      "metadata": {
        "colab": {
          "base_uri": "https://localhost:8080/"
        },
        "id": "C0HrDrmopHlS",
        "outputId": "9308275d-8e32-4595-a680-f592fbffcf6e"
      },
      "execution_count": 2,
      "outputs": [
        {
          "output_type": "stream",
          "name": "stdout",
          "text": [
            "--2022-01-08 14:30:41--  http://deepyeti.ucsd.edu/jianmo/amazon/categoryFilesSmall/All_Beauty.csv\n",
            "Resolving deepyeti.ucsd.edu (deepyeti.ucsd.edu)... 169.228.63.50\n",
            "Connecting to deepyeti.ucsd.edu (deepyeti.ucsd.edu)|169.228.63.50|:80... connected.\n",
            "HTTP request sent, awaiting response... 200 OK\n",
            "Length: 15499476 (15M) [application/octet-stream]\n",
            "Saving to: ‘All_Beauty.csv’\n",
            "\n",
            "All_Beauty.csv      100%[===================>]  14.78M  61.8MB/s    in 0.2s    \n",
            "\n",
            "2022-01-08 14:30:41 (61.8 MB/s) - ‘All_Beauty.csv’ saved [15499476/15499476]\n",
            "\n",
            "--2022-01-08 14:30:41--  http://deepyeti.ucsd.edu/jianmo/amazon/metaFiles2/meta_All_Beauty.json.gz\n",
            "Resolving deepyeti.ucsd.edu (deepyeti.ucsd.edu)... 169.228.63.50\n",
            "Connecting to deepyeti.ucsd.edu (deepyeti.ucsd.edu)|169.228.63.50|:80... connected.\n",
            "HTTP request sent, awaiting response... 200 OK\n",
            "Length: 10329961 (9.9M) [application/octet-stream]\n",
            "Saving to: ‘meta_All_Beauty.json.gz’\n",
            "\n",
            "meta_All_Beauty.jso 100%[===================>]   9.85M  53.6MB/s    in 0.2s    \n",
            "\n",
            "2022-01-08 14:30:41 (53.6 MB/s) - ‘meta_All_Beauty.json.gz’ saved [10329961/10329961]\n",
            "\n"
          ]
        }
      ]
    },
    {
      "cell_type": "code",
      "source": [
        "metadata = getDF('/content/meta_All_Beauty.json.gz')\n",
        "ratings = pd.read_csv('/content/All_Beauty.csv', names=['asin', 'reviewerID', 'overall', 'unixReviewTime'], header=None)\n",
        "ratings['DATE'] = pd.to_datetime(ratings['unixReviewTime'], unit='s')"
      ],
      "metadata": {
        "id": "EZtEwva7pHti"
      },
      "execution_count": 3,
      "outputs": []
    },
    {
      "cell_type": "code",
      "source": [
        "ratings.head()"
      ],
      "metadata": {
        "colab": {
          "base_uri": "https://localhost:8080/",
          "height": 206
        },
        "id": "SUKi9Dg2pHwQ",
        "outputId": "14af887d-a4dc-491f-f591-cf7e2ab5f64b"
      },
      "execution_count": 4,
      "outputs": [
        {
          "output_type": "execute_result",
          "data": {
            "text/html": [
              "\n",
              "  <div id=\"df-129c499d-623d-4534-aeaf-3a284ca15c23\">\n",
              "    <div class=\"colab-df-container\">\n",
              "      <div>\n",
              "<style scoped>\n",
              "    .dataframe tbody tr th:only-of-type {\n",
              "        vertical-align: middle;\n",
              "    }\n",
              "\n",
              "    .dataframe tbody tr th {\n",
              "        vertical-align: top;\n",
              "    }\n",
              "\n",
              "    .dataframe thead th {\n",
              "        text-align: right;\n",
              "    }\n",
              "</style>\n",
              "<table border=\"1\" class=\"dataframe\">\n",
              "  <thead>\n",
              "    <tr style=\"text-align: right;\">\n",
              "      <th></th>\n",
              "      <th>asin</th>\n",
              "      <th>reviewerID</th>\n",
              "      <th>overall</th>\n",
              "      <th>unixReviewTime</th>\n",
              "      <th>DATE</th>\n",
              "    </tr>\n",
              "  </thead>\n",
              "  <tbody>\n",
              "    <tr>\n",
              "      <th>0</th>\n",
              "      <td>0143026860</td>\n",
              "      <td>A1V6B6TNIC10QE</td>\n",
              "      <td>1.0</td>\n",
              "      <td>1424304000</td>\n",
              "      <td>2015-02-19</td>\n",
              "    </tr>\n",
              "    <tr>\n",
              "      <th>1</th>\n",
              "      <td>0143026860</td>\n",
              "      <td>A2F5GHSXFQ0W6J</td>\n",
              "      <td>4.0</td>\n",
              "      <td>1418860800</td>\n",
              "      <td>2014-12-18</td>\n",
              "    </tr>\n",
              "    <tr>\n",
              "      <th>2</th>\n",
              "      <td>0143026860</td>\n",
              "      <td>A1572GUYS7DGSR</td>\n",
              "      <td>4.0</td>\n",
              "      <td>1407628800</td>\n",
              "      <td>2014-08-10</td>\n",
              "    </tr>\n",
              "    <tr>\n",
              "      <th>3</th>\n",
              "      <td>0143026860</td>\n",
              "      <td>A1PSGLFK1NSVO</td>\n",
              "      <td>5.0</td>\n",
              "      <td>1362960000</td>\n",
              "      <td>2013-03-11</td>\n",
              "    </tr>\n",
              "    <tr>\n",
              "      <th>4</th>\n",
              "      <td>0143026860</td>\n",
              "      <td>A6IKXKZMTKGSC</td>\n",
              "      <td>5.0</td>\n",
              "      <td>1324771200</td>\n",
              "      <td>2011-12-25</td>\n",
              "    </tr>\n",
              "  </tbody>\n",
              "</table>\n",
              "</div>\n",
              "      <button class=\"colab-df-convert\" onclick=\"convertToInteractive('df-129c499d-623d-4534-aeaf-3a284ca15c23')\"\n",
              "              title=\"Convert this dataframe to an interactive table.\"\n",
              "              style=\"display:none;\">\n",
              "        \n",
              "  <svg xmlns=\"http://www.w3.org/2000/svg\" height=\"24px\"viewBox=\"0 0 24 24\"\n",
              "       width=\"24px\">\n",
              "    <path d=\"M0 0h24v24H0V0z\" fill=\"none\"/>\n",
              "    <path d=\"M18.56 5.44l.94 2.06.94-2.06 2.06-.94-2.06-.94-.94-2.06-.94 2.06-2.06.94zm-11 1L8.5 8.5l.94-2.06 2.06-.94-2.06-.94L8.5 2.5l-.94 2.06-2.06.94zm10 10l.94 2.06.94-2.06 2.06-.94-2.06-.94-.94-2.06-.94 2.06-2.06.94z\"/><path d=\"M17.41 7.96l-1.37-1.37c-.4-.4-.92-.59-1.43-.59-.52 0-1.04.2-1.43.59L10.3 9.45l-7.72 7.72c-.78.78-.78 2.05 0 2.83L4 21.41c.39.39.9.59 1.41.59.51 0 1.02-.2 1.41-.59l7.78-7.78 2.81-2.81c.8-.78.8-2.07 0-2.86zM5.41 20L4 18.59l7.72-7.72 1.47 1.35L5.41 20z\"/>\n",
              "  </svg>\n",
              "      </button>\n",
              "      \n",
              "  <style>\n",
              "    .colab-df-container {\n",
              "      display:flex;\n",
              "      flex-wrap:wrap;\n",
              "      gap: 12px;\n",
              "    }\n",
              "\n",
              "    .colab-df-convert {\n",
              "      background-color: #E8F0FE;\n",
              "      border: none;\n",
              "      border-radius: 50%;\n",
              "      cursor: pointer;\n",
              "      display: none;\n",
              "      fill: #1967D2;\n",
              "      height: 32px;\n",
              "      padding: 0 0 0 0;\n",
              "      width: 32px;\n",
              "    }\n",
              "\n",
              "    .colab-df-convert:hover {\n",
              "      background-color: #E2EBFA;\n",
              "      box-shadow: 0px 1px 2px rgba(60, 64, 67, 0.3), 0px 1px 3px 1px rgba(60, 64, 67, 0.15);\n",
              "      fill: #174EA6;\n",
              "    }\n",
              "\n",
              "    [theme=dark] .colab-df-convert {\n",
              "      background-color: #3B4455;\n",
              "      fill: #D2E3FC;\n",
              "    }\n",
              "\n",
              "    [theme=dark] .colab-df-convert:hover {\n",
              "      background-color: #434B5C;\n",
              "      box-shadow: 0px 1px 3px 1px rgba(0, 0, 0, 0.15);\n",
              "      filter: drop-shadow(0px 1px 2px rgba(0, 0, 0, 0.3));\n",
              "      fill: #FFFFFF;\n",
              "    }\n",
              "  </style>\n",
              "\n",
              "      <script>\n",
              "        const buttonEl =\n",
              "          document.querySelector('#df-129c499d-623d-4534-aeaf-3a284ca15c23 button.colab-df-convert');\n",
              "        buttonEl.style.display =\n",
              "          google.colab.kernel.accessAllowed ? 'block' : 'none';\n",
              "\n",
              "        async function convertToInteractive(key) {\n",
              "          const element = document.querySelector('#df-129c499d-623d-4534-aeaf-3a284ca15c23');\n",
              "          const dataTable =\n",
              "            await google.colab.kernel.invokeFunction('convertToInteractive',\n",
              "                                                     [key], {});\n",
              "          if (!dataTable) return;\n",
              "\n",
              "          const docLinkHtml = 'Like what you see? Visit the ' +\n",
              "            '<a target=\"_blank\" href=https://colab.research.google.com/notebooks/data_table.ipynb>data table notebook</a>'\n",
              "            + ' to learn more about interactive tables.';\n",
              "          element.innerHTML = '';\n",
              "          dataTable['output_type'] = 'display_data';\n",
              "          await google.colab.output.renderOutput(dataTable, element);\n",
              "          const docLink = document.createElement('div');\n",
              "          docLink.innerHTML = docLinkHtml;\n",
              "          element.appendChild(docLink);\n",
              "        }\n",
              "      </script>\n",
              "    </div>\n",
              "  </div>\n",
              "  "
            ],
            "text/plain": [
              "         asin      reviewerID  overall  unixReviewTime       DATE\n",
              "0  0143026860  A1V6B6TNIC10QE      1.0      1424304000 2015-02-19\n",
              "1  0143026860  A2F5GHSXFQ0W6J      4.0      1418860800 2014-12-18\n",
              "2  0143026860  A1572GUYS7DGSR      4.0      1407628800 2014-08-10\n",
              "3  0143026860   A1PSGLFK1NSVO      5.0      1362960000 2013-03-11\n",
              "4  0143026860   A6IKXKZMTKGSC      5.0      1324771200 2011-12-25"
            ]
          },
          "metadata": {},
          "execution_count": 4
        }
      ]
    },
    {
      "cell_type": "code",
      "source": [
        "ratings_trainings = ratings[\n",
        "    (ratings['DATE'] < '2018-09-01')\n",
        "]\n",
        "ratings_testings = ratings[\n",
        "    (ratings['DATE'] >= '2018-09-01') & \n",
        "    (ratings['DATE'] <= '2018-09-30')\n",
        "]\n",
        "ratings_testings_by_user = ratings_testings.groupby('reviewerID').agg(list).reset_index()[['reviewerID', 'asin']].to_dict('records')\n",
        "ratings_testings_by_user = { rating['reviewerID']: rating['asin'] for rating in ratings_testings_by_user }\n",
        "users = list(ratings_testings_by_user.keys())"
      ],
      "metadata": {
        "id": "mAxZaH4_uoG8"
      },
      "execution_count": 5,
      "outputs": []
    },
    {
      "cell_type": "markdown",
      "source": [
        "### 將傳入的資料（dataframe）轉成 user_to_items dictionary，方便後續的運算。"
      ],
      "metadata": {
        "id": "cdLm-zBbCSFo"
      }
    },
    {
      "cell_type": "code",
      "source": [
        "import pandas as pd\n",
        "from itertools import combinations\n",
        "from collections import defaultdict\n",
        "\n",
        "user_to_items = defaultdict(dict)\n",
        "for _, row in ratings_trainings.iterrows():\n",
        "    row = dict(row)\n",
        "    user = row['reviewerID']\n",
        "    item = row['asin']\n",
        "    rating = float(row['overall'])\n",
        "    user_to_items[user][item] = rating"
      ],
      "metadata": {
        "id": "PNZX_dZppH0B"
      },
      "execution_count": 6,
      "outputs": []
    },
    {
      "cell_type": "code",
      "source": [
        "len(user_to_items)"
      ],
      "metadata": {
        "colab": {
          "base_uri": "https://localhost:8080/"
        },
        "id": "0wq5H5mApH3J",
        "outputId": "5b39b73f-14ff-4dd2-dae3-961884c93e1f"
      },
      "execution_count": 7,
      "outputs": [
        {
          "output_type": "execute_result",
          "data": {
            "text/plain": [
              "323489"
            ]
          },
          "metadata": {},
          "execution_count": 7
        }
      ]
    },
    {
      "cell_type": "markdown",
      "source": [
        "### 過濾掉出現次數小於 n 的使用者。（因為他們較少出現，所以過濾掉他們對結果的精確度影響並不大）。"
      ],
      "metadata": {
        "id": "siSDwyEfCh4w"
      }
    },
    {
      "cell_type": "code",
      "source": [
        "user_to_items2=user_to_items\n",
        "remove_obscure_user = True\n",
        "user_rating_threshold = 3\n",
        "all_users = list(user_to_items2.keys())\n",
        "for user in all_users:\n",
        "    ratings = user_to_items2[user]\n",
        "    if remove_obscure_user and len(ratings) < user_rating_threshold:\n",
        "        del user_to_items[user]"
      ],
      "metadata": {
        "id": "cVFAAzIRxzYT"
      },
      "execution_count": 8,
      "outputs": []
    },
    {
      "cell_type": "code",
      "source": [
        "len(user_to_items2)"
      ],
      "metadata": {
        "colab": {
          "base_uri": "https://localhost:8080/"
        },
        "id": "uiMvGR_axzRq",
        "outputId": "7551efeb-b692-42dd-97fc-201a42ab4656"
      },
      "execution_count": 9,
      "outputs": [
        {
          "output_type": "execute_result",
          "data": {
            "text/plain": [
              "4793"
            ]
          },
          "metadata": {},
          "execution_count": 9
        }
      ]
    },
    {
      "cell_type": "markdown",
      "source": [
        "### 使用轉置這個技巧來優化計算效率，為了優化計算的效率，我們第一步先準備資料，我們把 user_to_items dictionary 轉換成 item_to_users。"
      ],
      "metadata": {
        "id": "R15wJ6dmC0Z7"
      }
    },
    {
      "cell_type": "code",
      "source": [
        "item_to_users = defaultdict(dict)\n",
        "for user, items in user_to_items2.items():\n",
        "    for item, rating in items.items():\n",
        "        item_to_users[item][user] = rating"
      ],
      "metadata": {
        "id": "TWkri5N1xzLw"
      },
      "execution_count": 10,
      "outputs": []
    },
    {
      "cell_type": "code",
      "source": [
        "item_to_users"
      ],
      "metadata": {
        "id": "sApJTpFExzE3"
      },
      "execution_count": null,
      "outputs": []
    },
    {
      "cell_type": "markdown",
      "source": [
        "### 在得到 item_to_users 之後，我們就可以把 xy, xx, yy 填入 pre_user_similarity matrix，首先我們會走過每一個 item，得到每一個 item 有哪一些 user 對它評分，之後產生所有 user 的倆倆組合，計算 xy, xx, yy 之後填入"
      ],
      "metadata": {
        "id": "xt-_tAY-DQP2"
      }
    },
    {
      "cell_type": "code",
      "source": [
        "init_sim = lambda: [0 for _ in range(3)]\n",
        "factory = lambda: defaultdict(init_sim)\n",
        "pre_user_similarity = defaultdict(factory)\n",
        "for item, user_ratings in item_to_users.items():\n",
        "    if len(user_ratings) > 1:\n",
        "        for user1, user2 in combinations(user_ratings.keys(), 2):\n",
        "            xy = user_ratings[user1] * user_ratings[user2]\n",
        "            xx = user_ratings[user1] ** 2\n",
        "            yy = user_ratings[user2] ** 2\n",
        "            pre_user_similarity[user1][user2][0] += xy\n",
        "            pre_user_similarity[user1][user2][1] += xx\n",
        "            pre_user_similarity[user1][user2][2] += yy\n",
        "            pre_user_similarity[user2][user1][0] += xy\n",
        "            pre_user_similarity[user2][user1][1] += xx\n",
        "            pre_user_similarity[user2][user1][2] += yy"
      ],
      "metadata": {
        "id": "Yc3rDwgQxy8x"
      },
      "execution_count": 11,
      "outputs": []
    },
    {
      "cell_type": "code",
      "source": [
        "pre_user_similarity"
      ],
      "metadata": {
        "id": "SA_Cuimr1cGz"
      },
      "execution_count": null,
      "outputs": []
    },
    {
      "cell_type": "markdown",
      "source": [
        "### 計算 user similarity matrix：做完計算之後將結果依大小順序加入到 list 中即可"
      ],
      "metadata": {
        "id": "C2ylHBRODfqZ"
      }
    },
    {
      "cell_type": "code",
      "source": [
        "user_similarity = {}\n",
        "for src_user in pre_user_similarity:\n",
        "    user_similarity_order = []\n",
        "    for dst_user, val in pre_user_similarity[src_user].items():\n",
        "        xy = val[0]\n",
        "        xx = val[1]\n",
        "        yy = val[2]\n",
        "        div = ((xx*yy) ** 0.5)\n",
        "        if div == 0:\n",
        "            continue\n",
        "        similarity = xy / div\n",
        "        if similarity < 0:\n",
        "            continue\n",
        "        for i, s in enumerate(user_similarity_order):\n",
        "            target_similarity = s[1]\n",
        "            if target_similarity < similarity:\n",
        "                user_similarity_order.insert(i, (dst_user, similarity))\n",
        "                break\n",
        "        else:\n",
        "            user_similarity_order.append((dst_user, similarity))\n",
        "    user_similarity[src_user] = user_similarity_order"
      ],
      "metadata": {
        "id": "i4pjFkAu1YCt"
      },
      "execution_count": 12,
      "outputs": []
    },
    {
      "cell_type": "code",
      "source": [
        "user_similarity"
      ],
      "metadata": {
        "id": "pr5b_v8x2xvE"
      },
      "execution_count": null,
      "outputs": []
    },
    {
      "cell_type": "markdown",
      "source": [
        "### 獲取最終的推薦結果\n",
        "### 第一個迴圈去掃描過全部的 user，根據傳入的 user 去找跟他們最相似的其他 users ，並從相似 users （第二個迴圈）有評分的商品（第三個迴圈）中依評分高低得到推薦結果（這邊有優化的空間：可以設定低於多少評分的就不推薦）。要注意的是，需避免推薦到 target user 已經評分過的商品，直到所要求的數量就可以停止推薦了。"
      ],
      "metadata": {
        "id": "iFL84Fa_DqUB"
      }
    },
    {
      "cell_type": "code",
      "source": [
        "def recommender(users=[], k=10):\n",
        "  recommendation = {}\n",
        "  for user in users:\n",
        "      if user in user_similarity:\n",
        "          sim_users = user_similarity[user]\n",
        "          recommended_items = []\n",
        "          recommended_items_set = set()\n",
        "          user_have_rated = set(user_to_items[user])\n",
        "          stop_recommend = False\n",
        "          for sim_user, _ in sim_users:\n",
        "            items_from_sim_user = sorted(list(user_to_items[sim_user].items()), key=lambda item: item[1])\n",
        "            for item, _ in items_from_sim_user:\n",
        "                if item not in user_have_rated and item not in recommended_items_set:\n",
        "                  recommended_items.append(item)\n",
        "                  recommended_items_set.add(item)\n",
        "                if len(recommended_items) >= k:\n",
        "                  stop_recommend = True\n",
        "                  break\n",
        "                if stop_recommend:\n",
        "                  break\n",
        "            recommendation[user] = recommended_items\n",
        "      else:\n",
        "            recommendation[user] = []\n",
        "  return recommendation"
      ],
      "metadata": {
        "id": "6rENxEeP38tL"
      },
      "execution_count": 13,
      "outputs": []
    },
    {
      "cell_type": "code",
      "source": [
        "ratings_by_user = recommender(users)\n"
      ],
      "metadata": {
        "id": "hXm105IT4CBi"
      },
      "execution_count": 14,
      "outputs": []
    },
    {
      "cell_type": "code",
      "source": [
        "def evaluate(ratings_testings_by_user={}, ratings_by_user={}, method=None):\n",
        "    '''\n",
        "    * ratings_testings_by_user: dict 真實被購買的商品資料（2018-09-01 以後資料）\n",
        "    * ratings_by_user: dict 利用訓練資料學習的推薦商品\n",
        "    * method: str\n",
        "    * score: float\n",
        "    '''\n",
        "    total = 0\n",
        "    for d in ratings_testings_by_user:\n",
        "        if d in ratings_by_user:\n",
        "            total += len(set(ratings_by_user[d]) & set(ratings_testings_by_user[d]))\n",
        "\n",
        "    score = total / len(ratings_testings)\n",
        "    return score\n",
        "\n",
        "evaluate(ratings_testings_by_user, ratings_by_user)"
      ],
      "metadata": {
        "colab": {
          "base_uri": "https://localhost:8080/"
        },
        "id": "LGJGR92u1X7X",
        "outputId": "bd39c7a0-0ad9-4390-e092-bb4e970103e4"
      },
      "execution_count": 15,
      "outputs": [
        {
          "output_type": "execute_result",
          "data": {
            "text/plain": [
              "0.0"
            ]
          },
          "metadata": {},
          "execution_count": 15
        }
      ]
    },
    {
      "cell_type": "code",
      "source": [
        ""
      ],
      "metadata": {
        "id": "vWuKFetB1XzF"
      },
      "execution_count": null,
      "outputs": []
    }
  ],
  "metadata": {
    "kernelspec": {
      "display_name": "Python 3",
      "language": "python",
      "name": "python3"
    },
    "language_info": {
      "codemirror_mode": {
        "name": "ipython",
        "version": 3
      },
      "file_extension": ".py",
      "mimetype": "text/x-python",
      "name": "python",
      "nbconvert_exporter": "python",
      "pygments_lexer": "ipython3",
      "version": "3.7.3"
    },
    "colab": {
      "name": "U49_User_based_collaborative_filtering.ipynb",
      "provenance": []
    }
  },
  "nbformat": 4,
  "nbformat_minor": 0
}