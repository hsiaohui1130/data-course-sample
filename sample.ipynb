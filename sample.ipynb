{
  "cells": [
    {
      "cell_type": "markdown",
      "metadata": {
        "id": "JnWZpox7MOk_"
      },
      "source": [
        "# Sample Code"
      ],
      "id": "JnWZpox7MOk_"
    },
    {
      "cell_type": "markdown",
      "source": [
        "Hi~"
      ],
      "metadata": {
        "id": "9LAHnBD0MY3p"
      },
      "id": "9LAHnBD0MY3p"
    },
    {
      "cell_type": "markdown",
      "metadata": {
        "id": "s2nozyzLMOlG"
      },
      "source": [
        "## 基礎建設"
      ],
      "id": "s2nozyzLMOlG"
    },
    {
      "cell_type": "code",
      "execution_count": null,
      "metadata": {
        "scrolled": true,
        "id": "t4aL8HEgMOlI"
      },
      "outputs": [],
      "source": [
        "import pandas as pd\n",
        "import gzip, json\n",
        "\n",
        "def parse(path):\n",
        "    g = gzip.open(path, 'rb')\n",
        "    for l in g:\n",
        "        yield json.loads(l)\n",
        "\n",
        "def getDF(path):\n",
        "    i = 0\n",
        "    df = {}\n",
        "    for d in parse(path):\n",
        "        df[i] = d\n",
        "        i += 1\n",
        "    return pd.DataFrame.from_dict(df, orient='index')"
      ],
      "id": "t4aL8HEgMOlI"
    },
    {
      "cell_type": "markdown",
      "metadata": {
        "id": "4GVlEjlcMOlN"
      },
      "source": [
        "## 載入資料"
      ],
      "id": "4GVlEjlcMOlN"
    },
    {
      "cell_type": "code",
      "execution_count": null,
      "metadata": {
        "id": "YzC4z2rVMOlO"
      },
      "outputs": [],
      "source": [
        "!wget http://deepyeti.ucsd.edu/jianmo/amazon/categoryFilesSmall/All_Beauty.csv\n",
        "!wget http://deepyeti.ucsd.edu/jianmo/amazon/metaFiles2/meta_All_Beauty.json.gz"
      ],
      "id": "YzC4z2rVMOlO"
    },
    {
      "cell_type": "code",
      "execution_count": null,
      "metadata": {
        "id": "P0v6Edu2MOlP"
      },
      "outputs": [],
      "source": [
        "metadata = getDF('/content/meta_All_Beauty.json.gz')\n",
        "ratings = pd.read_csv('/content/All_Beauty.csv', names=['asin', 'reviewerID', 'overall', 'unixReviewTime'], header=None)"
      ],
      "id": "P0v6Edu2MOlP"
    },
    {
      "cell_type": "code",
      "execution_count": null,
      "metadata": {
        "id": "_KZLUciEMOlP"
      },
      "outputs": [],
      "source": [
        "metadata.head()"
      ],
      "id": "_KZLUciEMOlP"
    },
    {
      "cell_type": "code",
      "execution_count": null,
      "metadata": {
        "id": "QswDKw9QMOlR"
      },
      "outputs": [],
      "source": [
        "ratings.head()"
      ],
      "id": "QswDKw9QMOlR"
    },
    {
      "cell_type": "markdown",
      "metadata": {
        "id": "Ei18aKOsMOlS"
      },
      "source": [
        "## 資料整理"
      ],
      "id": "Ei18aKOsMOlS"
    },
    {
      "cell_type": "code",
      "execution_count": null,
      "metadata": {
        "id": "JL-AYHXaMOlS"
      },
      "outputs": [],
      "source": [
        "ratings['DATE'] = pd.to_datetime(ratings['unixReviewTime'], unit='s')"
      ],
      "id": "JL-AYHXaMOlS"
    },
    {
      "cell_type": "markdown",
      "metadata": {
        "id": "F0VKBKljMOlT"
      },
      "source": [
        "## 資料切分"
      ],
      "id": "F0VKBKljMOlT"
    },
    {
      "cell_type": "code",
      "execution_count": null,
      "metadata": {
        "id": "UddPZV5UMOlU"
      },
      "outputs": [],
      "source": [
        "ratings_trainings = ratings[\n",
        "    (ratings['DATE'] < '2018-09-01')\n",
        "]\n",
        "ratings_testings = ratings[\n",
        "    (ratings['DATE'] >= '2018-09-01') & \n",
        "    (ratings['DATE'] <= '2018-09-30')\n",
        "]\n",
        "ratings_testings_by_user = ratings_testings.groupby('reviewerID').agg(list).reset_index()[['reviewerID', 'asin']].to_dict('records')\n",
        "ratings_testings_by_user = { rating['reviewerID']: rating['asin'] for rating in ratings_testings_by_user }\n",
        "users = list(ratings_testings_by_user.keys())"
      ],
      "id": "UddPZV5UMOlU"
    },
    {
      "cell_type": "markdown",
      "metadata": {
        "id": "FgEw4QnDMOlU"
      },
      "source": [
        "## 產生推薦 random_based"
      ],
      "id": "FgEw4QnDMOlU"
    },
    {
      "cell_type": "code",
      "source": [
        "def recommender_random_based(training_data, users=[], k=3):\n",
        "    '''\n",
        "    * training_data: dataframe 輸入的訓練資料集（2018-09-01 以前資料）\n",
        "    * users: [] 需要被推薦的使用者\n",
        "    * k: int 每個使用者需要推薦的商品數\n",
        "    * recommendations: dict\n",
        "      {\n",
        "          使用者一： [推薦商品一, 推薦商品二, ...],\n",
        "          使用者二： [...], ...\n",
        "      }\n",
        "    '''\n",
        "    recommendations = {}\n",
        "    '''\n",
        "    random-based\n",
        "    '''\n",
        "    ratings_trainings = training_data\n",
        "    recommendations = {user: ratings_trainings['asin'].sample(n=k).tolist() for user in users}\n",
        "    return recommendations\n",
        "ratings_by_user = recommender_random_based(ratings_trainings, users)\n",
        "ratings_by_user"
      ],
      "metadata": {
        "id": "OxR72F7e8XWU"
      },
      "id": "OxR72F7e8XWU",
      "execution_count": null,
      "outputs": []
    },
    {
      "cell_type": "code",
      "execution_count": null,
      "metadata": {
        "id": "7wWn_hztMOlV"
      },
      "outputs": [],
      "source": [
        ""
      ],
      "id": "7wWn_hztMOlV"
    },
    {
      "cell_type": "markdown",
      "source": [
        "## 產生推薦 rule_based"
      ],
      "metadata": {
        "id": "t-Sny2C0AiDz"
      },
      "id": "t-Sny2C0AiDz"
    },
    {
      "cell_type": "code",
      "source": [
        "# 推薦買過類別的熱門品且評分>=4\n",
        "# 1.先濾出該ID評分>=4的商品\n",
        "# 2.找出商品清單中上述商品的類別\n",
        "# 3.取上述商品的rank推薦\n",
        "#\n",
        "# 推薦買過類別的熱門品且評分>=4\n",
        "# 1.先濾出該ID評分>=4的商品\n",
        "# 2.找出買過相同商品的人買過的其他商品\n",
        "# 3.且平均分數>=4\n",
        "# 4.取上述商品的rank推薦"
      ],
      "metadata": {
        "id": "IQwpMRXkDQsj"
      },
      "id": "IQwpMRXkDQsj",
      "execution_count": null,
      "outputs": []
    },
    {
      "cell_type": "code",
      "source": [
        "# 產生新的 metadata 表\n",
        "df_asin = metadata['asin']\n",
        "df_brand = metadata['brand']\n",
        "df_title = metadata['title']\n",
        "df_price = metadata['price']\n",
        "df_rank = metadata['rank'].str.split(\" \").str.get(0).str.replace(',','')\n",
        "df_rank2 = pd.to_numeric(df_rank, errors='coerce')\n",
        "df_description = metadata['description']\n",
        "metadata_tmp = pd.concat([df_asin,df_brand,df_title,df_price,df_rank2,df_description],axis='columns')\n",
        "metadata_new = metadata_tmp.set_index('asin')\n",
        "metadata_new['overall_mean'] = ratings.groupby(by=['asin']).mean()['overall']\n",
        "metadata_new['reviews_count'] = ratings.groupby(by=['asin']).size()\n",
        "metadata_new\n"
      ],
      "metadata": {
        "id": "PxOHbjASUqc5"
      },
      "id": "PxOHbjASUqc5",
      "execution_count": null,
      "outputs": []
    },
    {
      "cell_type": "code",
      "source": [
        "# 過濾出評分表中分數 >= 4 的四星評分表\n",
        "all_ratings_trainings_4 = ratings_trainings.loc[(ratings_trainings['overall']>=4)]\n",
        "all_ratings_trainings_4_asin = all_ratings_trainings_4.set_index('asin')\n",
        "all_ratings_trainings_4_reviewerID = all_ratings_trainings_4.set_index('reviewerID')\n"
      ],
      "metadata": {
        "id": "tYHArrFDqlWH"
      },
      "id": "tYHArrFDqlWH",
      "execution_count": null,
      "outputs": []
    },
    {
      "cell_type": "code",
      "source": [
        "# 某使用者A購買過且分數 >= 4 的商品\n",
        "user_ratings_trainings_4 = ratings_trainings.loc[(ratings_trainings['overall']>=4) & (ratings_trainings['reviewerID']=='A2GJX2KCUSR0EI')]\n",
        "column_asin = [\"asin\"]\n",
        "user_buy_item = pd.DataFrame(user_ratings_trainings_4['asin'].unique(),columns=column_asin)\n",
        "user_buy_item_asin = user_buy_item.set_index('asin')\n",
        "user_buy_item_asin\n",
        "\n"
      ],
      "metadata": {
        "id": "T_n5iHmfDABW"
      },
      "id": "T_n5iHmfDABW",
      "execution_count": null,
      "outputs": []
    },
    {
      "cell_type": "code",
      "source": [
        "# 承上，交集四星評分表\n",
        "buy_the_same_items_logs=all_ratings_trainings_4_asin.join(user_buy_item_asin, how='right')\n",
        "buy_the_same_items_logs\n",
        "\n"
      ],
      "metadata": {
        "id": "ZAYz81cEp62C"
      },
      "id": "ZAYz81cEp62C",
      "execution_count": null,
      "outputs": []
    },
    {
      "cell_type": "code",
      "source": [
        "# 與某使用者A買過相同商品的人\n",
        "column_reviewerID = [\"reviewerID\"]\n",
        "buy_the_same_items_users = pd.DataFrame(buy_the_same_items_logs['reviewerID'].unique(),columns=column_reviewerID)\n",
        "buy_the_same_items_users_reviewerID = buy_the_same_items_users.set_index('reviewerID')\n",
        "buy_the_same_items_users_reviewerID\n"
      ],
      "metadata": {
        "id": "rNlurPBctiCb"
      },
      "id": "rNlurPBctiCb",
      "execution_count": null,
      "outputs": []
    },
    {
      "cell_type": "code",
      "source": [
        "# 承上，與四星評分表交集\n",
        "buy_others_items_logs = all_ratings_trainings_4_reviewerID.join(buy_the_same_items_users_reviewerID, how='right')\n",
        "buy_others_items_logs\n"
      ],
      "metadata": {
        "id": "kYyJ72altnGT"
      },
      "id": "kYyJ72altnGT",
      "execution_count": null,
      "outputs": []
    },
    {
      "cell_type": "code",
      "source": [
        "# 找出買過相同商品的人也買過的商品清單\n",
        "column_asin = [\"asin\"]\n",
        "buy_others_items_list = pd.DataFrame(buy_others_items_logs['asin'].unique(),columns=column_asin)\n",
        "buy_others_items_list_asin = buy_others_items_list.set_index('asin')\n",
        "buy_others_items_list_asin"
      ],
      "metadata": {
        "id": "fbKwPjzexbB0"
      },
      "id": "fbKwPjzexbB0",
      "execution_count": null,
      "outputs": []
    },
    {
      "cell_type": "code",
      "source": [
        "# 承上的商品清單交集 metadata\n",
        "recommend_items = metadata_new.join(buy_others_items_list_asin, how='right')\n",
        "recommend_items"
      ],
      "metadata": {
        "id": "KyZFqZA1dOKY"
      },
      "id": "KyZFqZA1dOKY",
      "execution_count": null,
      "outputs": []
    },
    {
      "cell_type": "code",
      "source": [
        "# 找出平均分數大於等於4分且評分次數大於等於10次 並用 rank 排序\n",
        "recommend_items_details = recommend_items.loc[(recommend_items['overall_mean'] >= 4) & (recommend_items['reviews_count'] >= 10)].sort_values(by=['rank'])\n",
        "recommend_items_details.reset_index(inplace=True)\n",
        "recommend_items_details\n",
        "recommend_items_details['asin'].unique()[0:10]\n",
        "\n",
        "\n"
      ],
      "metadata": {
        "id": "2jvwfgmeewa8"
      },
      "id": "2jvwfgmeewa8",
      "execution_count": null,
      "outputs": []
    },
    {
      "cell_type": "code",
      "source": [
        "def rule(user,k):\n",
        "  # 某使用者A購買過且分數 >= 4 的商品\n",
        "  user_ratings_trainings_4 = ratings_trainings.loc[(ratings_trainings['overall']>=4) & (ratings_trainings['reviewerID']==user)]\n",
        "  column_asin = [\"asin\"]\n",
        "  user_buy_item = pd.DataFrame(user_ratings_trainings_4['asin'].unique(),columns=column_asin)\n",
        "  user_buy_item_asin = user_buy_item.set_index('asin')\n",
        "\n",
        "  # 承上，交集四星評分表\n",
        "  buy_the_same_items_logs=all_ratings_trainings_4_asin.join(user_buy_item_asin, how='right')\n",
        "  \n",
        "  # 與某使用者A買過相同商品的人\n",
        "  column_reviewerID = [\"reviewerID\"]\n",
        "  buy_the_same_items_users = pd.DataFrame(buy_the_same_items_logs['reviewerID'].unique(),columns=column_reviewerID)\n",
        "  buy_the_same_items_users_reviewerID = buy_the_same_items_users.set_index('reviewerID')\n",
        "\n",
        "  # 承上，與四星評分表交集\n",
        "  buy_others_items_logs = all_ratings_trainings_4_reviewerID.join(buy_the_same_items_users_reviewerID, how='right')\n",
        "  buy_others_items_logs\n",
        "\n",
        "  # 找出買過相同商品的人也買過的商品清單\n",
        "  column_asin = [\"asin\"]\n",
        "  buy_others_items_list = pd.DataFrame(buy_others_items_logs['asin'].unique(),columns=column_asin)\n",
        "  buy_others_items_list_asin = buy_others_items_list.set_index('asin')\n",
        "\n",
        "  # 承上的商品清單交集 metadata\n",
        "  recommend_items = metadata_new.join(buy_others_items_list_asin, how='right')\n",
        "  \n",
        "  # 找出平均分數大於等於4分且評分次數大於等於10次 並用 rank 排序\n",
        "  recommend_items_details = recommend_items.loc[(recommend_items['overall_mean'] >= 4) & (recommend_items['reviews_count'] >= 10)].sort_values(by=['rank'])\n",
        "  recommend_items_details.reset_index(inplace=True)\n",
        "  recommend_items_details\n",
        "  recommend_topk = recommend_items_details['asin'].unique()[0:k]\n",
        "  \n",
        "  return recommend_topk\n",
        "\n"
      ],
      "metadata": {
        "id": "52GDSKiJewlW"
      },
      "id": "52GDSKiJewlW",
      "execution_count": null,
      "outputs": []
    },
    {
      "cell_type": "code",
      "source": [
        ""
      ],
      "metadata": {
        "id": "nPRWFk3Dewwf"
      },
      "id": "nPRWFk3Dewwf",
      "execution_count": null,
      "outputs": []
    },
    {
      "cell_type": "code",
      "source": [
        "ratings_trainings"
      ],
      "metadata": {
        "id": "i33qnhC9UM-Q"
      },
      "id": "i33qnhC9UM-Q",
      "execution_count": null,
      "outputs": []
    },
    {
      "cell_type": "code",
      "source": [
        "ratings_testings"
      ],
      "metadata": {
        "id": "KcxoU0KtLk4Y"
      },
      "id": "KcxoU0KtLk4Y",
      "execution_count": null,
      "outputs": []
    },
    {
      "cell_type": "code",
      "source": [
        "def recommender_rule_based(training_data, users=[], k=10):\n",
        "    '''\n",
        "    * training_data: dataframe 輸入的訓練資料集（2018-09-01 以前資料）\n",
        "    * users: [] 需要被推薦的使用者\n",
        "    * k: int 每個使用者需要推薦的商品數\n",
        "    * recommendations: dict\n",
        "      {\n",
        "          使用者一： [推薦商品一, 推薦商品二, ...],\n",
        "          使用者二： [...], ...\n",
        "      }\n",
        "    '''\n",
        "    recommendations = {}\n",
        "    '''\n",
        "    '''\n",
        "    ratings_trainings = training_data\n",
        "    ratings_trainings_4 = ratings_trainings.loc[ratings_trainings['overall']>=4]\n",
        "    recommendations = {user: rule(user).tolist() for user in users}\n",
        "    return recommendations\n",
        "\n",
        "\n",
        "ratings_by_user = recommender_rule_based(ratings_trainings, users)\n",
        "ratings_by_user"
      ],
      "metadata": {
        "id": "PoZOJifDAuPc"
      },
      "id": "PoZOJifDAuPc",
      "execution_count": null,
      "outputs": []
    },
    {
      "cell_type": "markdown",
      "metadata": {
        "id": "jOtUr8ApMOlW"
      },
      "source": [
        "## 結果評估"
      ],
      "id": "jOtUr8ApMOlW"
    },
    {
      "cell_type": "code",
      "execution_count": null,
      "metadata": {
        "id": "v6tu8n2cMOlW"
      },
      "outputs": [],
      "source": [
        "def evaluate(ratings_testings_by_user={}, ratings_by_user={}, method=None):\n",
        "    '''\n",
        "    * ratings_testings_by_user: dict 真實被購買的商品資料（2018-09-01 以後資料）\n",
        "    * ratings_by_user: dict 利用訓練資料學習的推薦商品\n",
        "    * method: str\n",
        "    * score: float\n",
        "    '''\n",
        "    total = 0\n",
        "    for d in ratings_testings_by_user:\n",
        "        if d in ratings_by_user:\n",
        "            total += len(set(ratings_by_user[d]) & set(ratings_testings_by_user[d]))\n",
        "\n",
        "    score = total / len(ratings_testings)\n",
        "    return score\n",
        "\n",
        "evaluate(ratings_testings_by_user, ratings_by_user)"
      ],
      "id": "v6tu8n2cMOlW"
    },
    {
      "cell_type": "code",
      "execution_count": null,
      "metadata": {
        "id": "XPByiSaSMOlX"
      },
      "outputs": [],
      "source": [
        ""
      ],
      "id": "XPByiSaSMOlX"
    }
  ],
  "metadata": {
    "kernelspec": {
      "display_name": "Python 3",
      "language": "python",
      "name": "python3"
    },
    "language_info": {
      "codemirror_mode": {
        "name": "ipython",
        "version": 3
      },
      "file_extension": ".py",
      "mimetype": "text/x-python",
      "name": "python",
      "nbconvert_exporter": "python",
      "pygments_lexer": "ipython3",
      "version": "3.6.5"
    },
    "colab": {
      "name": "sample.ipynb",
      "provenance": []
    }
  },
  "nbformat": 4,
  "nbformat_minor": 5
}