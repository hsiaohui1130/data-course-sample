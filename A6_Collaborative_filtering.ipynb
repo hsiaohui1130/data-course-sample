{
  "cells": [
    {
      "cell_type": "code",
      "source": [
        "### 基礎建設\n",
        "import pandas as pd\n",
        "import gzip, json\n",
        "\n",
        "def parse(path):\n",
        "    g = gzip.open(path, 'rb')\n",
        "    for l in g:\n",
        "        yield json.loads(l)\n",
        "\n",
        "def getDF(path):\n",
        "    i = 0\n",
        "    df = {}\n",
        "    for d in parse(path):\n",
        "        df[i] = d\n",
        "        i += 1\n",
        "    return pd.DataFrame.from_dict(df, orient='index')"
      ],
      "metadata": {
        "id": "fUwaEdw4t0bU"
      },
      "execution_count": null,
      "outputs": []
    },
    {
      "cell_type": "code",
      "source": [
        "### 載入資料\n",
        "!wget http://deepyeti.ucsd.edu/jianmo/amazon/categoryFilesSmall/All_Beauty.csv\n",
        "!wget http://deepyeti.ucsd.edu/jianmo/amazon/metaFiles2/meta_All_Beauty.json.gz"
      ],
      "metadata": {
        "id": "QsLW3Fnx2W94"
      },
      "execution_count": null,
      "outputs": []
    },
    {
      "cell_type": "code",
      "source": [
        "metadata = getDF('/content/meta_All_Beauty.json.gz')\n",
        "ratings = pd.read_csv('/content/All_Beauty.csv', names=['asin', 'reviewerID', 'overall', 'unixReviewTime'], header=None)\n",
        "ratings['DATE'] = pd.to_datetime(ratings['unixReviewTime'], unit='s')"
      ],
      "metadata": {
        "id": "N4nAfigk2boo"
      },
      "execution_count": null,
      "outputs": []
    },
    {
      "cell_type": "code",
      "source": [
        "ratings.head()"
      ],
      "metadata": {
        "id": "KbV-3xto2blW"
      },
      "execution_count": null,
      "outputs": []
    },
    {
      "cell_type": "code",
      "source": [
        "### 資料切分\n",
        "ratings_trainings = ratings[\n",
        "    (ratings['DATE'] < '2018-09-01')\n",
        "]\n",
        "ratings_testings = ratings[\n",
        "    (ratings['DATE'] >= '2018-09-01') & \n",
        "    (ratings['DATE'] <= '2018-09-30')\n",
        "]\n",
        "ratings_testings_by_user = ratings_testings.groupby('reviewerID').agg(list).reset_index()[['reviewerID', 'asin']].to_dict('records')\n",
        "ratings_testings_by_user = { rating['reviewerID']: rating['asin'] for rating in ratings_testings_by_user }\n",
        "users = list(ratings_testings_by_user.keys())"
      ],
      "metadata": {
        "id": "DBRru0-U2biR"
      },
      "execution_count": null,
      "outputs": []
    },
    {
      "cell_type": "code",
      "source": [
        "import pandas as pd\n",
        "from itertools import combinations\n",
        "from collections import defaultdict"
      ],
      "metadata": {
        "id": "OpI7tk5R2bej"
      },
      "execution_count": null,
      "outputs": []
    },
    {
      "cell_type": "markdown",
      "source": [
        "## U49_User_based_collaborative_filtering"
      ],
      "metadata": {
        "id": "s3V_tz_x6Fj4"
      }
    },
    {
      "cell_type": "code",
      "source": [
        "### 將傳入的資料（dataframe）轉成 user_to_items dictionary，方便後續的運算。\n",
        "user_to_items = defaultdict(dict)\n",
        "for _, row in ratings_trainings.iterrows():\n",
        "    row = dict(row)\n",
        "    user = row['reviewerID']\n",
        "    item = row['asin']\n",
        "    rating = float(row['overall'])\n",
        "    user_to_items[user][item] = rating\n",
        "\n",
        "### 過濾掉出現次數小於 n 的使用者。（因為他們較少出現，所以過濾掉他們對結果的精確度影響並不大）。\n",
        "user_to_items2=user_to_items\n",
        "remove_obscure_user = True\n",
        "user_rating_threshold = 3\n",
        "all_users = list(user_to_items2.keys())\n",
        "for user in all_users:\n",
        "    ratings = user_to_items2[user]\n",
        "    if remove_obscure_user and len(ratings) < user_rating_threshold:\n",
        "        del user_to_items[user]   \n",
        "\n",
        "### 使用轉置這個技巧來優化計算效率，為了優化計算的效率，我們第一步先準備資料，我們把 user_to_items dictionary 轉換成 item_to_users。\n",
        "item_to_users = defaultdict(dict)\n",
        "for user, items in user_to_items2.items():\n",
        "    for item, rating in items.items():\n",
        "        item_to_users[item][user] = rating\n",
        "\n",
        "### 在得到 item_to_users 之後，我們就可以把 xy, xx, yy 填入 pre_user_similarity matrix，首先我們會走過每一個 item，\n",
        "### 得到每一個 item 有哪一些 user 對它評分，之後產生所有 user 的倆倆組合，計算 xy, xx, yy 之後填入 \n",
        "init_sim = lambda: [0 for _ in range(3)]\n",
        "factory = lambda: defaultdict(init_sim)\n",
        "pre_user_similarity = defaultdict(factory)\n",
        "for item, user_ratings in item_to_users.items():\n",
        "    if len(user_ratings) > 1:\n",
        "        for user1, user2 in combinations(user_ratings.keys(), 2):\n",
        "            xy = user_ratings[user1] * user_ratings[user2]\n",
        "            xx = user_ratings[user1] ** 2\n",
        "            yy = user_ratings[user2] ** 2\n",
        "            pre_user_similarity[user1][user2][0] += xy\n",
        "            pre_user_similarity[user1][user2][1] += xx\n",
        "            pre_user_similarity[user1][user2][2] += yy\n",
        "            pre_user_similarity[user2][user1][0] += xy\n",
        "            pre_user_similarity[user2][user1][1] += xx\n",
        "            pre_user_similarity[user2][user1][2] += yy\n",
        "\n",
        "### 計算 user similarity matrix：做完計算之後將結果依大小順序加入到 list 中即可    \n",
        "user_similarity = {}\n",
        "for src_user in pre_user_similarity:\n",
        "    user_similarity_order = []\n",
        "    for dst_user, val in pre_user_similarity[src_user].items():\n",
        "        xy = val[0]\n",
        "        xx = val[1]\n",
        "        yy = val[2]\n",
        "        div = ((xx*yy) ** 0.5)\n",
        "        if div == 0:\n",
        "            continue\n",
        "        similarity = xy / div\n",
        "        if similarity < 0:\n",
        "            continue\n",
        "        for i, s in enumerate(user_similarity_order):\n",
        "            target_similarity = s[1]\n",
        "            if target_similarity < similarity:\n",
        "                user_similarity_order.insert(i, (dst_user, similarity))\n",
        "                break\n",
        "        else:\n",
        "            user_similarity_order.append((dst_user, similarity))\n",
        "    user_similarity[src_user] = user_similarity_order\n",
        "\n",
        "### 獲取最終的推薦結果\n",
        "### 第一個迴圈去掃描過全部的 user，根據傳入的 user 去找跟他們最相似的其他 users ，\n",
        "### 並從相似 users （第二個迴圈）有評分的商品（第三個迴圈）中依評分高低得到推薦結果（這邊有優化的空間：可以設定低於多少評分的就不推薦）。\n",
        "### 要注意的是，需避免推薦到 target user 已經評分過的商品，直到所要求的數量就可以停止推薦了。             \n",
        "\n",
        "def recommender_User_based(users=[], k=10):\n",
        "  recommendation = {}\n",
        "  for user in users:\n",
        "      if user in user_similarity:\n",
        "          sim_users = user_similarity[user]\n",
        "          recommended_items = []\n",
        "          recommended_items_set = set()\n",
        "          user_have_rated = set(user_to_items[user])\n",
        "          stop_recommend = False\n",
        "          for sim_user, _ in sim_users:\n",
        "            items_from_sim_user = sorted(list(user_to_items[sim_user].items()), key=lambda item: item[1])\n",
        "            for item, _ in items_from_sim_user:\n",
        "                if item not in user_have_rated and item not in recommended_items_set:\n",
        "                  recommended_items.append(item)\n",
        "                  recommended_items_set.add(item)\n",
        "                if len(recommended_items) >= k:\n",
        "                  stop_recommend = True\n",
        "                  break\n",
        "                if stop_recommend:\n",
        "                  break\n",
        "            recommendation[user] = recommended_items\n",
        "      else:\n",
        "            recommendation[user] = []\n",
        "  return recommendation"
      ],
      "metadata": {
        "id": "v_19sd652bbZ"
      },
      "execution_count": null,
      "outputs": []
    },
    {
      "cell_type": "code",
      "source": [
        "ratings_by_user_User_based = recommender_User_based(users)"
      ],
      "metadata": {
        "id": "3ab3Au1i2bMM"
      },
      "execution_count": null,
      "outputs": []
    },
    {
      "cell_type": "markdown",
      "source": [
        "## U50_Item_based_collaborative_filtering"
      ],
      "metadata": {
        "id": "HbB5mqYb7uZr"
      }
    },
    {
      "cell_type": "code",
      "source": [
        "### 將傳入的資料（dataframe）轉成 item_to_users dictionary，方便後續的運算。\n",
        "import pandas as pd\n",
        "from itertools import combinations\n",
        "from collections import defaultdict\n",
        "item_to_users = defaultdict(dict)\n",
        "for _, row in ratings_trainings.iterrows():\n",
        "    row = dict(row)\n",
        "    user = row['reviewerID']\n",
        "    item = row['asin']\n",
        "    rating = float(row['overall'])\n",
        "    item_to_users[item][user] = rating\n",
        "\n",
        "### 為了優化計算的效率，我們第一步先準備資料，我們把 item_to_users dictionary 轉置（transpose）成 user_to_items。\n",
        "user_to_items = defaultdict(dict)\n",
        "for item, rating_users in item_to_users.items():\n",
        "    for user, rating in rating_users.items():\n",
        "        user_to_items[user][item] = rating\n",
        "\n",
        "### 在得到 user_to_items 之後，我們就可以把 xy, xx, yy 填入 pre_item_similarity matrix，\n",
        "### 首先我們會走過每一個 user，得到每一個 user 有對哪一些 item 評分，之後產生所有 item 的倆倆組合，計算 xy, xx, yy 之後填入。            \n",
        "init_sim = lambda: [0, 0, 0]\n",
        "factory = lambda: defaultdict(init_sim)\n",
        "pre_item_similarity = defaultdict(factory)\n",
        "for user, items in user_to_items.items():\n",
        "    if len(items) > 1:\n",
        "        for i1, i2 in combinations(items.keys(), 2):\n",
        "            xy = items[i1] * items[i2]\n",
        "            xx = items[i1] ** 2\n",
        "            yy = items[i2] ** 2\n",
        "            pre_item_similarity[i1][i2][0] += xy\n",
        "            pre_item_similarity[i1][i2][1] += xx\n",
        "            pre_item_similarity[i1][i2][2] += yy\n",
        " \n",
        "            pre_item_similarity[i2][i1][0] += xy\n",
        "            pre_item_similarity[i2][i1][1] += xx\n",
        "            pre_item_similarity[i2][i1][2] += yy\n",
        "\n",
        "### 計算 item similarity matrix：做完計算之後將結果依大小順序加入到 list 中即可\n",
        "item_similarity = {}\n",
        "for src_item in pre_item_similarity:\n",
        "    item_similarity_order = []\n",
        "    for dst_item, val in pre_item_similarity[src_item].items():\n",
        "        xy = val[0]\n",
        "        xx = val[1]\n",
        "        yy = val[2]\n",
        "        div = ((xx*yy) ** 0.5)\n",
        "        if div == 0:\n",
        "          continue\n",
        "        similarity = xy / div\n",
        "        if similarity < 0:\n",
        "          continue\n",
        "        for i, s in enumerate(item_similarity_order):\n",
        "          target_similarity = s[1]\n",
        "          if target_similarity < similarity:\n",
        "            item_similarity_order.insert(i, (dst_item, similarity))\n",
        "            break\n",
        "        else:\n",
        "          item_similarity_order.append((dst_item, similarity))\n",
        "    item_similarity[src_item] = item_similarity_order\n",
        "\n",
        "### 獲取最終的推薦結果\n",
        "### 根據傳入的 users ，先找出每個 user 有評分過的商品之後，依據相似程度找出與該商品相似的商品。\n",
        "### 要注意的一點是，要避免推薦到 target user 已經評分過的商品，直到所要求的數量就可以停止推薦了。 \n",
        "def recommender_Item_based(users=[], k=10):\n",
        " recommendation = {}\n",
        " for user in users:\n",
        "     items = []\n",
        "     items_set = set()\n",
        "     stop = False\n",
        "     user_has_rated = set(user_to_items[user])\n",
        "     for item in user_has_rated:\n",
        "         if item in item_similarity:\n",
        "             for sim_item, _ in item_similarity[item]:\n",
        "                 # skip the item user has rated\n",
        "                 if sim_item not in user_has_rated and sim_item not in items_set:\n",
        "                     items.append(sim_item)\n",
        "                     items_set.add(sim_item)\n",
        "                 if len(items) >= k:\n",
        "                     stop = True\n",
        "                     break\n",
        "             if stop:\n",
        "                 break\n",
        "     recommendation[user] = items\n",
        " return recommendation\n"
      ],
      "metadata": {
        "id": "7oO8P9ec7c9i"
      },
      "execution_count": null,
      "outputs": []
    },
    {
      "cell_type": "code",
      "source": [
        "ratings_by_user_Item_based = recommender_Item_based(users)"
      ],
      "metadata": {
        "id": "nKHvF9Y-7c6l"
      },
      "execution_count": null,
      "outputs": []
    },
    {
      "cell_type": "markdown",
      "source": [
        "## U51_利用套件surprise實作collaborative_filtering方法"
      ],
      "metadata": {
        "id": "c1lkqBwF8-6a"
      }
    },
    {
      "cell_type": "code",
      "source": [
        "### 過濾重複的資料\n",
        "training_data = (\n",
        "     ratings_trainings\n",
        "     .sort_values(\"DATE\", ascending=False)\n",
        "     .groupby(['reviewerID', 'asin']).head(1)\n",
        ")\n",
        "\n",
        "### 再過濾\n",
        "### 1.只出現一次評分的商品紀錄：表示只有一個人評分過一次這項商品，沒有更多紀錄可以看該商品跟其他商品的關係\n",
        "### 2.只評分過一項商品的使用者：因為只評分過一個商品，沒有更多紀錄可以看該商品跟其他商品的關係\n",
        "\n",
        "### 只出現一次評分的商品紀錄\n",
        "rm1=training_data.groupby('asin').asin.count().reset_index(name='count').sort_values(['count'], ascending=False)\n",
        "rm1_asin=rm1.loc[(rm1['count'] == 1)]\n",
        "\n",
        "### 濾掉只出現一次評分的商品\n",
        "training_data_asin = training_data.set_index('asin')\n",
        "rm1_asin_asin = rm1_asin.set_index('asin')\n",
        "tmp1_training_data=training_data_asin.drop(rm1_asin_asin.index)\n",
        "tmp1_training_data.reset_index(inplace=True)\n",
        "\n",
        "### 只評分過一項商品的使用者\n",
        "rm2=tmp1_training_data.groupby('reviewerID').reviewerID.count().reset_index(name='count').sort_values(['count'], ascending=False)\n",
        "rm2_reviewerID=rm2.loc[(rm2['count'] == 1)]\n",
        "\n",
        "### 濾掉只評分過一項商品的使用者\n",
        "training_data_reviewerID = tmp1_training_data.set_index('reviewerID')\n",
        "rm2_reviewerID_reviewerID = rm2_reviewerID.set_index('reviewerID')\n",
        "tmp2_training_data=training_data_reviewerID.drop(rm2_reviewerID_reviewerID.index)\n",
        "tmp2_training_data.reset_index(inplace=True)\n",
        "\n",
        "training_data = tmp2_training_data\n"
      ],
      "metadata": {
        "id": "dqMxEQpH7c3T"
      },
      "execution_count": null,
      "outputs": []
    },
    {
      "cell_type": "markdown",
      "source": [
        "### 安裝 surprise"
      ],
      "metadata": {
        "id": "OqY0HkAS9j8y"
      }
    },
    {
      "cell_type": "code",
      "source": [
        "!pip install surprise"
      ],
      "metadata": {
        "id": "27zZ48QJ7cz4"
      },
      "execution_count": null,
      "outputs": []
    },
    {
      "cell_type": "code",
      "source": [
        "import time\n",
        "import pandas as pd\n",
        "from surprise import Reader\n",
        "from surprise import Dataset\n",
        "from surprise import KNNBasic"
      ],
      "metadata": {
        "id": "5qm77jNr7cvX"
      },
      "execution_count": null,
      "outputs": []
    },
    {
      "cell_type": "code",
      "source": [
        "### 將資料讀取成 Surprise 所需的格式\n",
        "reader = Reader(rating_scale=(0, 5))\n",
        "training_data = training_data[['reviewerID', 'asin', 'overall']]\n",
        "data = Dataset.load_from_df(training_data, reader=reader)\n",
        "\n",
        "### 設定所使用的演算法及參數\n",
        "sim_options = {\n",
        "     'name': 'cosine',\n",
        "     'user_based': False  # compute similarities between items\n",
        "}\n",
        "algo = KNNBasic\n",
        "algo_impl = algo(sim_options=sim_options)\n",
        "trainset = data.build_full_trainset()\n",
        "algo_impl.fit(trainset)\n",
        "\n",
        "### 獲取推薦結果\n",
        "def recommender_surprise(users=[], k=10):\n",
        "  recommendation = {}\n",
        "  for user in users:\n",
        "     items_user_rated = set(training_data.loc[training_data['reviewerID'] == user]['asin'].to_list())\n",
        "     recommend_item_list = []\n",
        "     recommend_item_set = set()\n",
        "     for item in items_user_rated:\n",
        "         iid = algo_impl.trainset.to_inner_iid(item)\n",
        "         recommend_items_iid = algo_impl.get_neighbors(iid, k)\n",
        "         for sim_item_iid in recommend_items_iid:\n",
        "             item_raw_id = algo_impl.trainset.to_raw_iid(sim_item_iid)\n",
        "             if item_raw_id not in items_user_rated and item_raw_id not in recommend_item_set:\n",
        "                 recommend_item_list.append(item_raw_id)\n",
        "                 recommend_item_set.add(item_raw_id)\n",
        " \n",
        "         if len(recommend_item_list) >= k:\n",
        "             recommend_item_list = recommend_item_list[:k]\n",
        "             break\n",
        "     recommendation[user] = recommend_item_list\n",
        "  return recommendation\n"
      ],
      "metadata": {
        "id": "iT4FoMoD7cpp"
      },
      "execution_count": null,
      "outputs": []
    },
    {
      "cell_type": "code",
      "source": [
        "ratings_by_user_surprise = recommender_surprise(users)"
      ],
      "metadata": {
        "id": "emIscDLS7ckJ"
      },
      "execution_count": null,
      "outputs": []
    },
    {
      "cell_type": "code",
      "source": [
        ""
      ],
      "metadata": {
        "id": "zRoSNUdO989n"
      },
      "execution_count": null,
      "outputs": []
    },
    {
      "cell_type": "code",
      "source": [
        ""
      ],
      "metadata": {
        "id": "vMkEb2R99827"
      },
      "execution_count": null,
      "outputs": []
    },
    {
      "cell_type": "code",
      "source": [
        ""
      ],
      "metadata": {
        "id": "OSTIvs-798vl"
      },
      "execution_count": null,
      "outputs": []
    },
    {
      "cell_type": "code",
      "source": [
        "def evaluate(ratings_testings_by_user={}, ratings_by_user={}, method=None):\n",
        "    '''\n",
        "    * ratings_testings_by_user: dict 真實被購買的商品資料（2018-09-01 以後資料）\n",
        "    * ratings_by_user: dict 利用訓練資料學習的推薦商品\n",
        "    * method: str\n",
        "    * score: float\n",
        "    '''\n",
        "    total = 0\n",
        "    for d in ratings_testings_by_user:\n",
        "        if d in ratings_by_user:\n",
        "            total += len(set(ratings_by_user[d]) & set(ratings_testings_by_user[d]))\n",
        "\n",
        "    score = total / len(ratings_testings)\n",
        "    return score"
      ],
      "metadata": {
        "id": "6MyAKD697cbD"
      },
      "execution_count": null,
      "outputs": []
    },
    {
      "cell_type": "code",
      "source": [
        "evaluate(ratings_testings_by_user, ratings_by_user_User_based)"
      ],
      "metadata": {
        "id": "PSltESt07gZp"
      },
      "execution_count": null,
      "outputs": []
    },
    {
      "cell_type": "code",
      "source": [
        "evaluate(ratings_testings_by_user, ratings_by_user_Item_based)"
      ],
      "metadata": {
        "id": "wzAhBiy08wSI"
      },
      "execution_count": null,
      "outputs": []
    },
    {
      "cell_type": "code",
      "source": [
        "evaluate(ratings_testings_by_user, ratings_by_user_surprise)"
      ],
      "metadata": {
        "id": "gJhBYlfD-C2J"
      },
      "execution_count": null,
      "outputs": []
    }
  ],
  "metadata": {
    "kernelspec": {
      "display_name": "Python 3",
      "language": "python",
      "name": "python3"
    },
    "language_info": {
      "codemirror_mode": {
        "name": "ipython",
        "version": 3
      },
      "file_extension": ".py",
      "mimetype": "text/x-python",
      "name": "python",
      "nbconvert_exporter": "python",
      "pygments_lexer": "ipython3",
      "version": "3.7.3"
    },
    "colab": {
      "name": "A6_Collaborative_filtering.ipynb",
      "provenance": []
    }
  },
  "nbformat": 4,
  "nbformat_minor": 0
}