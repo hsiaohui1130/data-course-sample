{
  "cells": [
    {
      "cell_type": "code",
      "source": [
        "### 基礎建設\n",
        "import pandas as pd\n",
        "import gzip, json\n",
        "\n",
        "def parse(path):\n",
        "    g = gzip.open(path, 'rb')\n",
        "    for l in g:\n",
        "        yield json.loads(l)\n",
        "\n",
        "def getDF(path):\n",
        "    i = 0\n",
        "    df = {}\n",
        "    for d in parse(path):\n",
        "        df[i] = d\n",
        "        i += 1\n",
        "    return pd.DataFrame.from_dict(df, orient='index')"
      ],
      "metadata": {
        "id": "fUwaEdw4t0bU"
      },
      "execution_count": 1,
      "outputs": []
    },
    {
      "cell_type": "code",
      "source": [
        "### 載入資料\n",
        "!wget http://deepyeti.ucsd.edu/jianmo/amazon/categoryFilesSmall/All_Beauty.csv\n",
        "!wget http://deepyeti.ucsd.edu/jianmo/amazon/metaFiles2/meta_All_Beauty.json.gz"
      ],
      "metadata": {
        "id": "QsLW3Fnx2W94",
        "outputId": "78d52923-261d-4d1d-f95b-71bdc84e5577",
        "colab": {
          "base_uri": "https://localhost:8080/"
        }
      },
      "execution_count": 2,
      "outputs": [
        {
          "output_type": "stream",
          "name": "stdout",
          "text": [
            "--2022-01-09 15:45:20--  http://deepyeti.ucsd.edu/jianmo/amazon/categoryFilesSmall/All_Beauty.csv\n",
            "Resolving deepyeti.ucsd.edu (deepyeti.ucsd.edu)... 169.228.63.50\n",
            "Connecting to deepyeti.ucsd.edu (deepyeti.ucsd.edu)|169.228.63.50|:80... connected.\n",
            "HTTP request sent, awaiting response... 200 OK\n",
            "Length: 15499476 (15M) [application/octet-stream]\n",
            "Saving to: ‘All_Beauty.csv’\n",
            "\n",
            "All_Beauty.csv      100%[===================>]  14.78M  20.0MB/s    in 0.7s    \n",
            "\n",
            "2022-01-09 15:45:20 (20.0 MB/s) - ‘All_Beauty.csv’ saved [15499476/15499476]\n",
            "\n",
            "--2022-01-09 15:45:21--  http://deepyeti.ucsd.edu/jianmo/amazon/metaFiles2/meta_All_Beauty.json.gz\n",
            "Resolving deepyeti.ucsd.edu (deepyeti.ucsd.edu)... 169.228.63.50\n",
            "Connecting to deepyeti.ucsd.edu (deepyeti.ucsd.edu)|169.228.63.50|:80... connected.\n",
            "HTTP request sent, awaiting response... 200 OK\n",
            "Length: 10329961 (9.9M) [application/octet-stream]\n",
            "Saving to: ‘meta_All_Beauty.json.gz’\n",
            "\n",
            "meta_All_Beauty.jso 100%[===================>]   9.85M  15.2MB/s    in 0.7s    \n",
            "\n",
            "2022-01-09 15:45:21 (15.2 MB/s) - ‘meta_All_Beauty.json.gz’ saved [10329961/10329961]\n",
            "\n"
          ]
        }
      ]
    },
    {
      "cell_type": "code",
      "source": [
        "metadata = getDF('/content/meta_All_Beauty.json.gz')\n",
        "ratings = pd.read_csv('/content/All_Beauty.csv', names=['asin', 'reviewerID', 'overall', 'unixReviewTime'], header=None)\n",
        "ratings['DATE'] = pd.to_datetime(ratings['unixReviewTime'], unit='s')"
      ],
      "metadata": {
        "id": "N4nAfigk2boo"
      },
      "execution_count": 3,
      "outputs": []
    },
    {
      "cell_type": "code",
      "source": [
        "metadata.shape"
      ],
      "metadata": {
        "id": "-tSjONFaWl7x",
        "outputId": "a8778b9d-0dd0-43f9-8042-b28a8221dcc9",
        "colab": {
          "base_uri": "https://localhost:8080/"
        }
      },
      "execution_count": 4,
      "outputs": [
        {
          "output_type": "execute_result",
          "data": {
            "text/plain": [
              "(32892, 19)"
            ]
          },
          "metadata": {},
          "execution_count": 4
        }
      ]
    },
    {
      "cell_type": "code",
      "source": [
        "ratings.shape"
      ],
      "metadata": {
        "id": "Zvi04PQ4Wn6t",
        "outputId": "e29f2bb1-dd18-4f06-ba2a-66e01a722a95",
        "colab": {
          "base_uri": "https://localhost:8080/"
        }
      },
      "execution_count": 5,
      "outputs": [
        {
          "output_type": "execute_result",
          "data": {
            "text/plain": [
              "(371345, 5)"
            ]
          },
          "metadata": {},
          "execution_count": 5
        }
      ]
    },
    {
      "cell_type": "code",
      "source": [
        "### 提醒，請使用相同類別（beauty）的資料進行實作。\n",
        "### 處理 rank 中的排行跟分類\n",
        "metadata['rank_rank'] = metadata['rank'].str.split(\" \").str.get(0).str.replace(',','').to_frame()\n",
        "metadata['rank_category'] = metadata['rank'].str.split(\"in \").str.get(1).to_frame()\n",
        "\n",
        "### 濾出 beauty 類別\n",
        "metadata_beauty = metadata.loc[(metadata['rank_category']=='Beauty & Personal Care (')]\n",
        "\n",
        "### 過濾重複的資料\n",
        "metadata_beauty = (\n",
        "     metadata_beauty\n",
        "     .sort_values('asin', ascending=False)\n",
        "     .groupby(['asin']).head(1)\n",
        ")\n",
        "\n",
        "### 過濾重複的資料\n",
        "ratings = (\n",
        "     ratings\n",
        "     .sort_values(\"DATE\", ascending=False)\n",
        "     .groupby(['reviewerID', 'asin']).head(1)\n",
        ")\n",
        "\n",
        "metadata_beauty = metadata_beauty.set_index('asin')\n",
        "ratings = ratings.set_index('asin')\n",
        "\n",
        "ratings_beauty = pd.merge(ratings,metadata_beauty['rank_category'],how='inner', on=['asin'])\n",
        "ratings_beauty.reset_index(inplace=True)\n",
        "metadata_beauty.reset_index(inplace=True)\n"
      ],
      "metadata": {
        "id": "3tslkZgLO_Gh"
      },
      "execution_count": 6,
      "outputs": []
    },
    {
      "cell_type": "code",
      "source": [
        "metadata_beauty.shape"
      ],
      "metadata": {
        "id": "YeK9wM25W9Xh",
        "outputId": "2ae38695-edaa-4d1b-e79e-c1d37cbaa9eb",
        "colab": {
          "base_uri": "https://localhost:8080/"
        }
      },
      "execution_count": 7,
      "outputs": [
        {
          "output_type": "execute_result",
          "data": {
            "text/plain": [
              "(31541, 21)"
            ]
          },
          "metadata": {},
          "execution_count": 7
        }
      ]
    },
    {
      "cell_type": "code",
      "source": [
        "ratings_beauty.shape"
      ],
      "metadata": {
        "id": "eo6otxrKXAER",
        "outputId": "cf67fc25-9d01-4b8a-a5ad-a0094b59b29e",
        "colab": {
          "base_uri": "https://localhost:8080/"
        }
      },
      "execution_count": 8,
      "outputs": [
        {
          "output_type": "execute_result",
          "data": {
            "text/plain": [
              "(333853, 6)"
            ]
          },
          "metadata": {},
          "execution_count": 8
        }
      ]
    },
    {
      "cell_type": "code",
      "source": [
        "### 資料切分\n",
        "ratings = ratings_beauty\n",
        "ratings_trainings = ratings[\n",
        "    (ratings['DATE'] < '2018-09-01')\n",
        "]\n",
        "ratings_testings = ratings[\n",
        "    (ratings['DATE'] >= '2018-09-01') & \n",
        "    (ratings['DATE'] <= '2018-09-30')\n",
        "]\n",
        "ratings_testings_by_user = ratings_testings.groupby('reviewerID').agg(list).reset_index()[['reviewerID', 'asin']].to_dict('records')\n",
        "ratings_testings_by_user = { rating['reviewerID']: rating['asin'] for rating in ratings_testings_by_user }\n",
        "users = list(ratings_testings_by_user.keys())"
      ],
      "metadata": {
        "id": "DBRru0-U2biR"
      },
      "execution_count": 9,
      "outputs": []
    },
    {
      "cell_type": "code",
      "source": [
        "import pandas as pd\n",
        "from itertools import combinations\n",
        "from collections import defaultdict"
      ],
      "metadata": {
        "id": "OpI7tk5R2bej"
      },
      "execution_count": 10,
      "outputs": []
    },
    {
      "cell_type": "markdown",
      "source": [
        "## U49_User_based_collaborative_filtering"
      ],
      "metadata": {
        "id": "s3V_tz_x6Fj4"
      }
    },
    {
      "cell_type": "code",
      "source": [
        "### 將傳入的資料（dataframe）轉成 user_to_items dictionary，方便後續的運算。\n",
        "user_to_items = defaultdict(dict)\n",
        "for _, row in ratings_trainings.iterrows():\n",
        "    row = dict(row)\n",
        "    user = row['reviewerID']\n",
        "    item = row['asin']\n",
        "    rating = float(row['overall'])\n",
        "    user_to_items[user][item] = rating\n",
        "\n",
        "### 過濾掉出現次數小於 n 的使用者。（因為他們較少出現，所以過濾掉他們對結果的精確度影響並不大）。\n",
        "user_to_items2=user_to_items\n",
        "remove_obscure_user = True\n",
        "user_rating_threshold = 3\n",
        "all_users = list(user_to_items2.keys())\n",
        "for user in all_users:\n",
        "    ratings = user_to_items2[user]\n",
        "    if remove_obscure_user and len(ratings) < user_rating_threshold:\n",
        "        del user_to_items[user]   \n",
        "\n",
        "### 使用轉置這個技巧來優化計算效率，為了優化計算的效率，我們第一步先準備資料，我們把 user_to_items dictionary 轉換成 item_to_users。\n",
        "item_to_users = defaultdict(dict)\n",
        "for user, items in user_to_items2.items():\n",
        "    for item, rating in items.items():\n",
        "        item_to_users[item][user] = rating\n",
        "\n",
        "### 在得到 item_to_users 之後，我們就可以把 xy, xx, yy 填入 pre_user_similarity matrix，首先我們會走過每一個 item，\n",
        "### 得到每一個 item 有哪一些 user 對它評分，之後產生所有 user 的倆倆組合，計算 xy, xx, yy 之後填入 \n",
        "init_sim = lambda: [0 for _ in range(3)]\n",
        "factory = lambda: defaultdict(init_sim)\n",
        "pre_user_similarity = defaultdict(factory)\n",
        "for item, user_ratings in item_to_users.items():\n",
        "    if len(user_ratings) > 1:\n",
        "        for user1, user2 in combinations(user_ratings.keys(), 2):\n",
        "            xy = user_ratings[user1] * user_ratings[user2]\n",
        "            xx = user_ratings[user1] ** 2\n",
        "            yy = user_ratings[user2] ** 2\n",
        "            pre_user_similarity[user1][user2][0] += xy\n",
        "            pre_user_similarity[user1][user2][1] += xx\n",
        "            pre_user_similarity[user1][user2][2] += yy\n",
        "            pre_user_similarity[user2][user1][0] += xy\n",
        "            pre_user_similarity[user2][user1][1] += xx\n",
        "            pre_user_similarity[user2][user1][2] += yy\n",
        "\n",
        "### 計算 user similarity matrix：做完計算之後將結果依大小順序加入到 list 中即可    \n",
        "user_similarity = {}\n",
        "for src_user in pre_user_similarity:\n",
        "    user_similarity_order = []\n",
        "    for dst_user, val in pre_user_similarity[src_user].items():\n",
        "        xy = val[0]\n",
        "        xx = val[1]\n",
        "        yy = val[2]\n",
        "        div = ((xx*yy) ** 0.5)\n",
        "        if div == 0:\n",
        "            continue\n",
        "        similarity = xy / div\n",
        "        if similarity < 0:\n",
        "            continue\n",
        "        for i, s in enumerate(user_similarity_order):\n",
        "            target_similarity = s[1]\n",
        "            if target_similarity < similarity:\n",
        "                user_similarity_order.insert(i, (dst_user, similarity))\n",
        "                break\n",
        "        else:\n",
        "            user_similarity_order.append((dst_user, similarity))\n",
        "    user_similarity[src_user] = user_similarity_order\n",
        "\n",
        "### 獲取最終的推薦結果\n",
        "### 第一個迴圈去掃描過全部的 user，根據傳入的 user 去找跟他們最相似的其他 users ，\n",
        "### 並從相似 users （第二個迴圈）有評分的商品（第三個迴圈）中依評分高低得到推薦結果（這邊有優化的空間：可以設定低於多少評分的就不推薦）。\n",
        "### 要注意的是，需避免推薦到 target user 已經評分過的商品，直到所要求的數量就可以停止推薦了。             \n",
        "\n",
        "def recommender_User_based(users=[], k=10):\n",
        "  recommendation = {}\n",
        "  for user in users:\n",
        "      if user in user_similarity:\n",
        "          sim_users = user_similarity[user]\n",
        "          recommended_items = []\n",
        "          recommended_items_set = set()\n",
        "          user_have_rated = set(user_to_items[user])\n",
        "          stop_recommend = False\n",
        "          for sim_user, _ in sim_users:\n",
        "            items_from_sim_user = sorted(list(user_to_items[sim_user].items()), key=lambda item: item[1])\n",
        "            for item, _ in items_from_sim_user:\n",
        "                if item not in user_have_rated and item not in recommended_items_set:\n",
        "                  recommended_items.append(item)\n",
        "                  recommended_items_set.add(item)\n",
        "                if len(recommended_items) >= k:\n",
        "                  stop_recommend = True\n",
        "                  break\n",
        "                if stop_recommend:\n",
        "                  break\n",
        "            recommendation[user] = recommended_items\n",
        "      else:\n",
        "            recommendation[user] = []\n",
        "  return recommendation"
      ],
      "metadata": {
        "id": "v_19sd652bbZ"
      },
      "execution_count": 11,
      "outputs": []
    },
    {
      "cell_type": "code",
      "source": [
        "ratings_by_user_User_based = recommender_User_based(users)"
      ],
      "metadata": {
        "id": "3ab3Au1i2bMM"
      },
      "execution_count": 12,
      "outputs": []
    },
    {
      "cell_type": "markdown",
      "source": [
        "## U50_Item_based_collaborative_filtering"
      ],
      "metadata": {
        "id": "HbB5mqYb7uZr"
      }
    },
    {
      "cell_type": "code",
      "source": [
        "### 將傳入的資料（dataframe）轉成 item_to_users dictionary，方便後續的運算。\n",
        "import pandas as pd\n",
        "from itertools import combinations\n",
        "from collections import defaultdict\n",
        "item_to_users = defaultdict(dict)\n",
        "for _, row in ratings_trainings.iterrows():\n",
        "    row = dict(row)\n",
        "    user = row['reviewerID']\n",
        "    item = row['asin']\n",
        "    rating = float(row['overall'])\n",
        "    item_to_users[item][user] = rating\n",
        "\n",
        "### 為了優化計算的效率，我們第一步先準備資料，我們把 item_to_users dictionary 轉置（transpose）成 user_to_items。\n",
        "user_to_items = defaultdict(dict)\n",
        "for item, rating_users in item_to_users.items():\n",
        "    for user, rating in rating_users.items():\n",
        "        user_to_items[user][item] = rating\n",
        "\n",
        "### 在得到 user_to_items 之後，我們就可以把 xy, xx, yy 填入 pre_item_similarity matrix，\n",
        "### 首先我們會走過每一個 user，得到每一個 user 有對哪一些 item 評分，之後產生所有 item 的倆倆組合，計算 xy, xx, yy 之後填入。            \n",
        "init_sim = lambda: [0, 0, 0]\n",
        "factory = lambda: defaultdict(init_sim)\n",
        "pre_item_similarity = defaultdict(factory)\n",
        "for user, items in user_to_items.items():\n",
        "    if len(items) > 1:\n",
        "        for i1, i2 in combinations(items.keys(), 2):\n",
        "            xy = items[i1] * items[i2]\n",
        "            xx = items[i1] ** 2\n",
        "            yy = items[i2] ** 2\n",
        "            pre_item_similarity[i1][i2][0] += xy\n",
        "            pre_item_similarity[i1][i2][1] += xx\n",
        "            pre_item_similarity[i1][i2][2] += yy\n",
        " \n",
        "            pre_item_similarity[i2][i1][0] += xy\n",
        "            pre_item_similarity[i2][i1][1] += xx\n",
        "            pre_item_similarity[i2][i1][2] += yy\n",
        "\n",
        "### 計算 item similarity matrix：做完計算之後將結果依大小順序加入到 list 中即可\n",
        "item_similarity = {}\n",
        "for src_item in pre_item_similarity:\n",
        "    item_similarity_order = []\n",
        "    for dst_item, val in pre_item_similarity[src_item].items():\n",
        "        xy = val[0]\n",
        "        xx = val[1]\n",
        "        yy = val[2]\n",
        "        div = ((xx*yy) ** 0.5)\n",
        "        if div == 0:\n",
        "          continue\n",
        "        similarity = xy / div\n",
        "        if similarity < 0:\n",
        "          continue\n",
        "        for i, s in enumerate(item_similarity_order):\n",
        "          target_similarity = s[1]\n",
        "          if target_similarity < similarity:\n",
        "            item_similarity_order.insert(i, (dst_item, similarity))\n",
        "            break\n",
        "        else:\n",
        "          item_similarity_order.append((dst_item, similarity))\n",
        "    item_similarity[src_item] = item_similarity_order\n",
        "\n",
        "### 獲取最終的推薦結果\n",
        "### 根據傳入的 users ，先找出每個 user 有評分過的商品之後，依據相似程度找出與該商品相似的商品。\n",
        "### 要注意的一點是，要避免推薦到 target user 已經評分過的商品，直到所要求的數量就可以停止推薦了。 \n",
        "def recommender_Item_based(users=[], k=10):\n",
        " recommendation = {}\n",
        " for user in users:\n",
        "     items = []\n",
        "     items_set = set()\n",
        "     stop = False\n",
        "     user_has_rated = set(user_to_items[user])\n",
        "     for item in user_has_rated:\n",
        "         if item in item_similarity:\n",
        "             for sim_item, _ in item_similarity[item]:\n",
        "                 # skip the item user has rated\n",
        "                 if sim_item not in user_has_rated and sim_item not in items_set:\n",
        "                     items.append(sim_item)\n",
        "                     items_set.add(sim_item)\n",
        "                 if len(items) >= k:\n",
        "                     stop = True\n",
        "                     break\n",
        "             if stop:\n",
        "                 break\n",
        "     recommendation[user] = items\n",
        " return recommendation\n"
      ],
      "metadata": {
        "id": "7oO8P9ec7c9i"
      },
      "execution_count": 13,
      "outputs": []
    },
    {
      "cell_type": "code",
      "source": [
        "ratings_by_user_Item_based = recommender_Item_based(users)"
      ],
      "metadata": {
        "id": "nKHvF9Y-7c6l"
      },
      "execution_count": 14,
      "outputs": []
    },
    {
      "cell_type": "markdown",
      "source": [
        "## U51_利用套件surprise實作collaborative_filtering方法"
      ],
      "metadata": {
        "id": "c1lkqBwF8-6a"
      }
    },
    {
      "cell_type": "code",
      "source": [
        "training_data = ratings_trainings\n",
        "\n",
        "### 過濾資料以免RAM不足\n",
        "### 1.只出現一次評分的商品紀錄：表示只有一個人評分過一次這項商品，沒有更多紀錄可以看該商品跟其他商品的關係\n",
        "### 2.只評分過一項商品的使用者：因為只評分過一個商品，沒有更多紀錄可以看該商品跟其他商品的關係\n",
        "\n",
        "### 只出現一次評分的商品紀錄\n",
        "rm1=training_data.groupby('asin').asin.count().reset_index(name='count').sort_values(['count'], ascending=False)\n",
        "rm1_asin=rm1.loc[(rm1['count'] == 1)]\n",
        "\n",
        "### 濾掉只出現一次評分的商品\n",
        "training_data_asin = training_data.set_index('asin')\n",
        "rm1_asin_asin = rm1_asin.set_index('asin')\n",
        "tmp1_training_data=training_data_asin.drop(rm1_asin_asin.index)\n",
        "tmp1_training_data.reset_index(inplace=True)\n",
        "\n",
        "### 只評分過一項商品的使用者\n",
        "rm2=tmp1_training_data.groupby('reviewerID').reviewerID.count().reset_index(name='count').sort_values(['count'], ascending=False)\n",
        "rm2_reviewerID=rm2.loc[(rm2['count'] == 1)]\n",
        "\n",
        "### 濾掉只評分過一項商品的使用者\n",
        "training_data_reviewerID = tmp1_training_data.set_index('reviewerID')\n",
        "rm2_reviewerID_reviewerID = rm2_reviewerID.set_index('reviewerID')\n",
        "tmp2_training_data=training_data_reviewerID.drop(rm2_reviewerID_reviewerID.index)\n",
        "tmp2_training_data.reset_index(inplace=True)\n",
        "\n",
        "training_data = tmp2_training_data\n"
      ],
      "metadata": {
        "id": "dqMxEQpH7c3T"
      },
      "execution_count": 15,
      "outputs": []
    },
    {
      "cell_type": "markdown",
      "source": [
        "### 安裝 surprise"
      ],
      "metadata": {
        "id": "OqY0HkAS9j8y"
      }
    },
    {
      "cell_type": "code",
      "source": [
        "!pip install surprise"
      ],
      "metadata": {
        "id": "27zZ48QJ7cz4",
        "outputId": "9f4c811f-615f-4631-f35a-88ac86bdb0be",
        "colab": {
          "base_uri": "https://localhost:8080/"
        }
      },
      "execution_count": 16,
      "outputs": [
        {
          "output_type": "stream",
          "name": "stdout",
          "text": [
            "Collecting surprise\n",
            "  Downloading surprise-0.1-py2.py3-none-any.whl (1.8 kB)\n",
            "Collecting scikit-surprise\n",
            "  Downloading scikit-surprise-1.1.1.tar.gz (11.8 MB)\n",
            "\u001b[K     |████████████████████████████████| 11.8 MB 5.2 MB/s \n",
            "\u001b[?25hRequirement already satisfied: joblib>=0.11 in /usr/local/lib/python3.7/dist-packages (from scikit-surprise->surprise) (1.1.0)\n",
            "Requirement already satisfied: numpy>=1.11.2 in /usr/local/lib/python3.7/dist-packages (from scikit-surprise->surprise) (1.19.5)\n",
            "Requirement already satisfied: scipy>=1.0.0 in /usr/local/lib/python3.7/dist-packages (from scikit-surprise->surprise) (1.4.1)\n",
            "Requirement already satisfied: six>=1.10.0 in /usr/local/lib/python3.7/dist-packages (from scikit-surprise->surprise) (1.15.0)\n",
            "Building wheels for collected packages: scikit-surprise\n",
            "  Building wheel for scikit-surprise (setup.py) ... \u001b[?25l\u001b[?25hdone\n",
            "  Created wheel for scikit-surprise: filename=scikit_surprise-1.1.1-cp37-cp37m-linux_x86_64.whl size=1619423 sha256=644b51e833a2558e01f497d06fbf21b4252c63c2adfa3232a306135f81413e13\n",
            "  Stored in directory: /root/.cache/pip/wheels/76/44/74/b498c42be47b2406bd27994e16c5188e337c657025ab400c1c\n",
            "Successfully built scikit-surprise\n",
            "Installing collected packages: scikit-surprise, surprise\n",
            "Successfully installed scikit-surprise-1.1.1 surprise-0.1\n"
          ]
        }
      ]
    },
    {
      "cell_type": "code",
      "source": [
        "import time\n",
        "import pandas as pd\n",
        "from surprise import Reader\n",
        "from surprise import Dataset\n",
        "from surprise import KNNBasic"
      ],
      "metadata": {
        "id": "5qm77jNr7cvX"
      },
      "execution_count": 17,
      "outputs": []
    },
    {
      "cell_type": "code",
      "source": [
        "### 將資料讀取成 Surprise 所需的格式\n",
        "reader = Reader(rating_scale=(0, 5))\n",
        "training_data = training_data[['reviewerID', 'asin', 'overall']]\n",
        "data = Dataset.load_from_df(training_data, reader=reader)\n",
        "\n",
        "### 設定所使用的演算法及參數\n",
        "sim_options = {\n",
        "     'name': 'cosine',\n",
        "     'user_based': False  # compute similarities between items\n",
        "}\n",
        "algo = KNNBasic\n",
        "algo_impl = algo(sim_options=sim_options)\n",
        "trainset = data.build_full_trainset()\n",
        "algo_impl.fit(trainset)\n",
        "\n",
        "### 獲取推薦結果\n",
        "def recommender_surprise(users=[], k=10):\n",
        "  recommendation = {}\n",
        "  for user in users:\n",
        "     items_user_rated = set(training_data.loc[training_data['reviewerID'] == user]['asin'].to_list())\n",
        "     recommend_item_list = []\n",
        "     recommend_item_set = set()\n",
        "     for item in items_user_rated:\n",
        "         iid = algo_impl.trainset.to_inner_iid(item)\n",
        "         recommend_items_iid = algo_impl.get_neighbors(iid, k)\n",
        "         for sim_item_iid in recommend_items_iid:\n",
        "             item_raw_id = algo_impl.trainset.to_raw_iid(sim_item_iid)\n",
        "             if item_raw_id not in items_user_rated and item_raw_id not in recommend_item_set:\n",
        "                 recommend_item_list.append(item_raw_id)\n",
        "                 recommend_item_set.add(item_raw_id)\n",
        " \n",
        "         if len(recommend_item_list) >= k:\n",
        "             recommend_item_list = recommend_item_list[:k]\n",
        "             break\n",
        "     recommendation[user] = recommend_item_list\n",
        "  return recommendation\n"
      ],
      "metadata": {
        "id": "iT4FoMoD7cpp",
        "outputId": "96357626-1772-4cae-efe0-ba5872fe9ecc",
        "colab": {
          "base_uri": "https://localhost:8080/"
        }
      },
      "execution_count": 18,
      "outputs": [
        {
          "output_type": "stream",
          "name": "stdout",
          "text": [
            "Computing the cosine similarity matrix...\n",
            "Done computing similarity matrix.\n"
          ]
        }
      ]
    },
    {
      "cell_type": "code",
      "source": [
        "ratings_by_user_surprise = recommender_surprise(users)"
      ],
      "metadata": {
        "id": "emIscDLS7ckJ"
      },
      "execution_count": 19,
      "outputs": []
    },
    {
      "cell_type": "code",
      "source": [
        ""
      ],
      "metadata": {
        "id": "QY2HDAe7eQLw"
      },
      "execution_count": null,
      "outputs": []
    },
    {
      "cell_type": "markdown",
      "source": [
        "## 評估結果"
      ],
      "metadata": {
        "id": "OlYqPr18eQzl"
      }
    },
    {
      "cell_type": "code",
      "source": [
        "def evaluate(ratings_testings_by_user={}, ratings_by_user={}, method=None):\n",
        "    '''\n",
        "    * ratings_testings_by_user: dict 真實被購買的商品資料（2018-09-01 以後資料）\n",
        "    * ratings_by_user: dict 利用訓練資料學習的推薦商品\n",
        "    * method: str\n",
        "    * score: float\n",
        "    '''\n",
        "    total = 0\n",
        "    for d in ratings_testings_by_user:\n",
        "        if d in ratings_by_user:\n",
        "            total += len(set(ratings_by_user[d]) & set(ratings_testings_by_user[d]))\n",
        "\n",
        "    score = total / len(ratings_testings)\n",
        "    return score"
      ],
      "metadata": {
        "id": "6MyAKD697cbD"
      },
      "execution_count": 20,
      "outputs": []
    },
    {
      "cell_type": "code",
      "source": [
        "evaluate(ratings_testings_by_user, ratings_by_user_User_based)"
      ],
      "metadata": {
        "id": "PSltESt07gZp",
        "outputId": "ebd4d30b-4b0f-4e54-e81f-191d3e6e1cb4",
        "colab": {
          "base_uri": "https://localhost:8080/"
        }
      },
      "execution_count": 21,
      "outputs": [
        {
          "output_type": "execute_result",
          "data": {
            "text/plain": [
              "0.0"
            ]
          },
          "metadata": {},
          "execution_count": 21
        }
      ]
    },
    {
      "cell_type": "code",
      "source": [
        "evaluate(ratings_testings_by_user, ratings_by_user_Item_based)"
      ],
      "metadata": {
        "id": "wzAhBiy08wSI",
        "outputId": "03bba679-3c26-4011-ea75-3460881d9562",
        "colab": {
          "base_uri": "https://localhost:8080/"
        }
      },
      "execution_count": 22,
      "outputs": [
        {
          "output_type": "execute_result",
          "data": {
            "text/plain": [
              "0.003424657534246575"
            ]
          },
          "metadata": {},
          "execution_count": 22
        }
      ]
    },
    {
      "cell_type": "code",
      "source": [
        "evaluate(ratings_testings_by_user, ratings_by_user_surprise)"
      ],
      "metadata": {
        "id": "gJhBYlfD-C2J",
        "outputId": "8f690d7d-ff6b-405c-972e-f9c3070fa6d0",
        "colab": {
          "base_uri": "https://localhost:8080/"
        }
      },
      "execution_count": 23,
      "outputs": [
        {
          "output_type": "execute_result",
          "data": {
            "text/plain": [
              "0.0017123287671232876"
            ]
          },
          "metadata": {},
          "execution_count": 23
        }
      ]
    }
  ],
  "metadata": {
    "kernelspec": {
      "display_name": "Python 3",
      "language": "python",
      "name": "python3"
    },
    "language_info": {
      "codemirror_mode": {
        "name": "ipython",
        "version": 3
      },
      "file_extension": ".py",
      "mimetype": "text/x-python",
      "name": "python",
      "nbconvert_exporter": "python",
      "pygments_lexer": "ipython3",
      "version": "3.7.3"
    },
    "colab": {
      "name": "A6_Collaborative_filtering.ipynb",
      "provenance": []
    }
  },
  "nbformat": 4,
  "nbformat_minor": 0
}